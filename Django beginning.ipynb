{
 "cells": [
  {
   "cell_type": "markdown",
   "metadata": {},
   "source": [
    "# Let's setup django\n",
    "## Before we start\n",
    "A lot of the task here will not be run in notebook. The notebook is code example. We will primarily run in a terminal with code editting a python file.\n",
    "\n",
    "## What is django\n",
    "A web framework. Which means it is used to make websites. It provide a few thing\n",
    "\n",
    "1. Request\n",
    "2. Response\n",
    "3. URL Routing\n",
    "4. ORM\n",
    "5. various convenience function to make life easy.\n",
    "\n",
    "## So let start with installing \n",
    "As usual you install using the packager we what. We use conda"
   ]
  },
  {
   "cell_type": "code",
   "execution_count": null,
   "metadata": {
    "collapsed": true
   },
   "outputs": [],
   "source": [
    "conda install django"
   ]
  },
  {
   "cell_type": "markdown",
   "metadata": {
    "collapsed": true
   },
   "source": [
    "## Now start with creating projects. \n",
    "A little context, django have organize projects in a 2 big way. Project, and apps. 1 project can have many apps. \n"
   ]
  },
  {
   "cell_type": "code",
   "execution_count": null,
   "metadata": {
    "collapsed": false
   },
   "outputs": [],
   "source": [
    "django-admin startproject codingshophouse"
   ]
  },
  {
   "cell_type": "markdown",
   "metadata": {},
   "source": [
    "Now you see a few thing in a project. Directory"
   ]
  },
  {
   "cell_type": "code",
   "execution_count": null,
   "metadata": {
    "collapsed": true
   },
   "outputs": [],
   "source": []
  },
  {
   "cell_type": "markdown",
   "metadata": {},
   "source": [
    "Let's explain a little with what we have here. "
   ]
  },
  {
   "cell_type": "markdown",
   "metadata": {},
   "source": [
    "Now lets do this command to create some initial db"
   ]
  },
  {
   "cell_type": "code",
   "execution_count": null,
   "metadata": {
    "collapsed": true
   },
   "outputs": [],
   "source": [
    "python manage.py migrate"
   ]
  },
  {
   "cell_type": "markdown",
   "metadata": {},
   "source": [
    "## Now we create app\n",
    "Second part of django is apps. This is where you define views, template and database. Which we will cover later. The command is like this"
   ]
  },
  {
   "cell_type": "code",
   "execution_count": null,
   "metadata": {
    "collapsed": true
   },
   "outputs": [],
   "source": [
    "python mange.py startapp blog"
   ]
  },
  {
   "cell_type": "markdown",
   "metadata": {},
   "source": [
    "But an app need to be registered, that's why you need to add into apps config in settings.py"
   ]
  },
  {
   "cell_type": "markdown",
   "metadata": {},
   "source": [
    "Final thing, always override your config, so you need to do it this ways"
   ]
  },
  {
   "cell_type": "code",
   "execution_count": null,
   "metadata": {
    "collapsed": true
   },
   "outputs": [],
   "source": []
  }
 ],
 "metadata": {
  "anaconda-cloud": {},
  "kernelspec": {
   "display_name": "Bash",
   "language": "bash",
   "name": "bash"
  },
  "language_info": {
   "codemirror_mode": "shell",
   "file_extension": ".sh",
   "mimetype": "text/x-sh",
   "name": "bash"
  }
 },
 "nbformat": 4,
 "nbformat_minor": 2
}
