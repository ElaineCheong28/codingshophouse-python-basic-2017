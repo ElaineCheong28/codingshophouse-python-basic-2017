{
 "cells": [
  {
   "cell_type": "markdown",
   "metadata": {},
   "source": [
    "# Let's setup django\n",
    "## Before we start\n",
    "A lot of the task here will not be run in notebook. The notebook is code example. We will primarily run in a terminal with code editting a python file.\n",
    "\n",
    "## What is django\n",
    "A web framework. Which means it is used to make websites. It provide a few thing\n",
    "\n",
    "1. Request\n",
    "2. Response\n",
    "3. URL Routing\n",
    "4. ORM\n",
    "5. various convenience function to make life easy.\n",
    "\n",
    "## So let start with installing \n",
    "As usual you install using the packager we what. We use conda"
   ]
  },
  {
   "cell_type": "code",
   "execution_count": null,
   "metadata": {
    "collapsed": true
   },
   "outputs": [],
   "source": [
    "conda install django"
   ]
  }
 ],
 "metadata": {
  "anaconda-cloud": {},
  "kernelspec": {
   "display_name": "Bash",
   "language": "bash",
   "name": "bash"
  },
  "language_info": {
   "codemirror_mode": "shell",
   "file_extension": ".sh",
   "mimetype": "text/x-sh",
   "name": "bash"
  }
 },
 "nbformat": 4,
 "nbformat_minor": 2
}
